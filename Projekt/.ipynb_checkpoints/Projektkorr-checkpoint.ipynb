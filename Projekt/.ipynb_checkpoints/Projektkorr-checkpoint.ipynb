{
 "cells": [
  {
   "cell_type": "markdown",
   "id": "0e5ac006-4dae-490f-9023-3ca64253284b",
   "metadata": {},
   "source": [
    "# Pingis och Statistik: Vem Vinner, Varför och Var? "
   ]
  },
  {
   "cell_type": "markdown",
   "id": "022798bf-8479-479c-9066-f324d2ff2e90",
   "metadata": {},
   "source": [
    "\n",
    "# Inledning \n",
    "\n",
    "Bordtennis är en av världens mest tekniskt krävande sporter, där utfallet av en match avgörs av en komplex kombination av precision, strategi och snabb reaktionsförmåga. Men vad är det egentligen som skiljer vinnarna från förlorarna? Är det enbart spelarnas tekniska skicklighet, eller finns det andra faktorer som spelar en avgörande roll? Hemmaplansfördel, publikens stöd och små skillnader i utrustning och miljö är några av de aspekter som ofta diskuteras, men hur stor inverkan har de egentligen?\n",
    "\n",
    "Ett av de mest omvälvande skiftena inom sporten inträffade 2016, då plastbollen ersatte den tidigare celluloidbollen. Förändringen medförde att spelets karaktär ändrades dramatiskt: skruvens effekt minskade, bollen studsade annorlunda och speltempot blev snabbare. Detta väcker en rad frågor: Hur påverkade bollbytet lagens prestationer? Finns det mätbara förändringar i resultat före och efter skiftet? Och vilka faktorer bidrog till att vissa lag lyckades bättre med anpassningen än andra?\n",
    "\n",
    "Samtidigt kvarstår frågan om hemmaplansfördelens verkliga betydelse. Är det en reell fördel, och i så fall varför? Beror det på spelarnas vana vid sin hemmamiljö, publikens stöd eller kanske till och med på lagens sponsorer och den utrustning de använder?\n",
    "\n",
    "För att besvara dessa frågor fokuserar den här analysen på tre centrala frågeställningar:\n",
    "\n",
    "1. Finns det en statistiskt signifikant skillnad i lagens prestationer på hemmaplan jämfört med bortaplan?\n",
    "\n",
    "2. Hur påverkade bollbytet 2016 lagens resultat och hemmaplansfördel?\n",
    "\n",
    "3. Hur påverkar publikens närvaro lagens prestationer på hemmaplan?\n",
    "\n",
    "\n",
    "Genom att analysera data från \"Pingisligan\" för både herrar och damer, och kombinera statistiska metoder med visualiseringar, söker vi svar på dessa frågor. Resultaten syftar till att ge en djupare förståelse för vilka faktorer som påverkar framgång i bordtennis och vad som verkligen avgör matchernas utfall.\n"
   ]
  },
  {
   "cell_type": "markdown",
   "id": "937eb867-6228-4fb6-8ed0-f99e97a41559",
   "metadata": {},
   "source": [
    "# Data\n",
    "\n",
    "Datamaterialet är hämtat från Svenska Bordtennisförbundet och innehåller resultaten från \"Pingisligan\" för herrar, Sveriges högsta division inom sporten. Datasetet täcker perioden från säsongen 2010/2011 till 2023/2024. Varje observation representerar en lagmatch och innehåller information om hemmavinst, bortavinst, oavgjort hemma och oavgjort borta. Hemmavinst och bortavinst definieras som lagets totala matchresultat vid en given matchdag, medan oavgjort används för att beskriva matcher där resultatet blev lika.\n",
    "\n",
    "För damernas \"Pingisligan\" täcker datan perioden 2017/2018 till 2023/2024.  På grund av begränsad tillgång till data från tidigare säsonger kunde inte damernas resultat från innan 2017 inkluderas.\n",
    "\n",
    "Efter insamlingen bearbetades datan manuellt i ett kalkylark för att säkerställa att alla observationer var korrekta och konsekventa. Därefter importerades datan till Python för analys och visualisering.\n",
    "\n",
    "För att utöka analysen och möjliggöra jämförelser mellan lag har en variabel för lagens huvudsponsor lagts till. Denna information har sammanställts manuellt från öppna källor som klubbarnas hemsidor och sponsoravtal. Lag som saknade sponsorinformation exkluderades från analyser relaterade till denna variabel."
   ]
  },
  {
   "cell_type": "markdown",
   "id": "29542d66-43dd-4112-94a3-e3038d33de92",
   "metadata": {},
   "source": [
    " # Metod\n",
    "\n",
    "För att analysera datamaterialet och besvara de frågor som ställts har flera statistiska metoder och visualiseringsverktyg använts. Här redogörs för de steg och tester som utförts, samt motiveringen bakom valet av metoder.\n",
    "\n",
    "**Datahantering och transformationer**\n",
    " \n",
    "För att rättvist kunna jämföra prestationer mellan lag där oavgjorda matcher förekommer, implementerades en justerad beräkning av vinster. I denna metod räknades varje oavgjord match som en halv vinst, vilket reflekterar lagens delade framgång i dessa matcher. Den justerade vinstberäkningen för hemmamatcher definierades som:\n",
    "\n",
    "$$\\text{Justerad Hemmavinst}=Hemmavinster+0.5\\cdot\\text{Oavgjort Hemma}$$\n",
    "\n",
    "Samma logik applicerades på bortavinster:\n",
    "\n",
    "$$\\text{Justerad Bortavinst}=Bortavinster+0.5\\cdot\\text{Oavgjort Borta}$$\n",
    "\n",
    "Denna justering säkerställde att lag med många oavgjorda matcher inte missgynnades i analyserna, och möjliggjorde en mer rättvis bild av lagens samlade prestationer.\n",
    "\n",
    "Beräkning av vinstprocent: För att undersöka lagens prestationer på hemma- och bortaplan beräknades vinstprocenten separat för varje spelplats. Detta gjordes genom att dividera de justerade vinsterna med det totala antalet matcher för respektive spelplats. Formeln för hemmavinstprocent var:\n",
    "\n",
    "$$Hemmavinstprocent=\\frac{\\text{Justerad Hemmavinst}}{\\text{Totala Hemmamatcher}}\\cdot100$$\n",
    "\n",
    "Där det totala antalet hemmamatcher beräknades som summan av hemmavinster, hemmavinster efter oavgjorda matcher och hemmaförluster. En motsvarande beräkning gjordes för bortavinster: \n",
    "\n",
    "$$Bortavinstprocent=\\frac{\\text{Justerad Bortavinst}}{\\text{Totala Bortamatcher}}\\cdot100$$\n",
    "\n",
    "Vinstkvot: För att ytterligare analysera skillnaderna mellan lagens prestationer på hemma- och bortaplan beräknades en vinstkvot. Denna definierades som förhållandet mellan hemmavinstprocent och bortavinstprocent:\n",
    "\n",
    "$$Vinstkvot=\\frac{Hemmavinstprocent}{Bortavinstprocent}$$\n",
    "\n",
    "En vinstkvot större än 1 indikerade en starkare prestation på hemmaplan jämfört med bortaplan, medan en kvot nära 1 antydde en jämn prestation oberoende av spelplats. För att säkerställa robusthet i analysen filtrerades kvoter där bortavinstprocenten var noll (vilket resulterade i oändliga kvoter) eller där kvoten blev noll bort. Detta genomfördes genom att ersätta oändliga värden med noll och ta bort dessa ur datasetet innan statistiska tester utfördes.En vinstkvot större än 1 indikerade en starkare prestation på hemmaplan jämfört med bortaplan, medan en kvot nära 1 antydde en jämn prestation oberoende av spelplats. För att säkerställa robusthet i analysen filtrerades kvoter där bortavinstprocenten var noll (vilket resulterade i oändliga kvoter) eller där kvoten blev noll bort. Detta genomfördes genom att ersätta oändliga värden med noll och ta bort dessa ur datasetet innan statistiska tester utfördes.\n",
    "\n",
    "**Statistiska tester och visualiseringar**\n",
    "\n",
    "Jag började med att plotta hemmavinstprocent mot bortavinstprocent för att undersöka hur lagens prestationer skiljde sig beroende på spelplats. Detta gav en första indikation på att hemmaplansfördel kunde ha en inverkan. För att testa detta vidare genomfördes ett t-test för att undersöka om skillnaden mellan hemmavinstprocent och bortavinstprocent var statistiskt signifikant.\n",
    "\n",
    "Efter den inledande analysen gick jag vidare med att undersöka effekten av regeländringen som infördes säsongen 2014/2015, då plastbollar blev standard inom sporten. Jag delade upp datan i två perioder: före och efter denna förändring, och plottade vinstkvoter för lagen under båda perioderna för att identifiera eventuella förändringar i prestation. Jag analyserade noggrant vilka lag som uppvisade de största förändringarna och undersökte gemensamma faktorer mellan dessa lag. Efter vidare efterforskningar beslutade jag att inkludera sponsor som en variabel i analysen, vilket gjorde det möjligt att plotta och jämföra vinstkvoter för lagen både före och efter säsongen 2014/2015.\n",
    "\n",
    "Nästa steg var att analysera publikens inverkan. Eftersom säsongen 2020/2021 var unik genom att publik inte var tillåten. Jag jämförde lagens hemmavinstprocent mellan säsongen utan publik och säsongerna med publik genom visualiseringar och t-tester. Detta möjliggjorde en analys av om publikens närvaro hade en signifikant effekt på lagens prestationer.\n",
    "\n",
    "Slutligen läste jag in data för damernas \"pingisligan\". Jag plottade vinstprocent för  seriern och genomförde tester för att undersöka om det fanns signifikanta skillnader mellan könen. Detta gav en bredare förståelse för eventuella könsspecifika mönster i prestationerna.\n",
    "\n"
   ]
  },
  {
   "cell_type": "markdown",
   "id": "a0caa1cc-42de-424b-8c82-79f9e511a242",
   "metadata": {},
   "source": [
    "# Resultat\n",
    "\n",
    "I denna sektion presenteras resultaten från analyserna av hemmavinstprocent, effekten av bollbytet 2016 och sponsorer. Resultaten förstärks med visualiseringar och tabeller för att ge en tydlig bild av de identifierade mönstren och sambanden.\n",
    "\n",
    "**Skillnaden i vinstprocent hemma vs borta herrar**\n",
    "\n",
    "För att undersöka om det finns en skillnad mellan vinstprocent hemma och borta analyserades justerade vinstprocent för samtliga lag. En visualisering av de genomsnittliga vinstprocenterna per spelplats presenteras nedan.\n",
    "\n"
   ]
  },
  {
   "cell_type": "markdown",
   "id": "cabb274d-64ca-4e96-9571-0dddbeddc541",
   "metadata": {},
   "source": [
    "![Vinstprocent herrar](Vinstprocentherrar.png)\n"
   ]
  },
  {
   "cell_type": "markdown",
   "id": "87a238f2-6c27-4be3-a140-16e5acbbcba3",
   "metadata": {},
   "source": [
    "Stapeldiagrammet visar att lagens genomsnittliga vinstprocent är högre hemma än borta, vilket också bekräftades av ett signifikant resultat i t-testet ($p=0.01882026335003066$).\"\n",
    "\n",
    "**Effekten av bollbytet 2014**\n",
    "\n",
    "För att undersöka hur bollbytet 2014 påverkade lagen delades data in i två perioder: före och efter regeländringen. Genomsnittliga vinstkvoter för lagen i båda perioderna plottades och jämfördes.\n",
    "\n"
   ]
  },
  {
   "cell_type": "markdown",
   "id": "25e5c546-2d37-4344-ad85-f787f81d41bc",
   "metadata": {},
   "source": [
    "![Tabell förbättring](förbättring_tabell.png)"
   ]
  },
  {
   "cell_type": "markdown",
   "id": "37bd46ed-1401-4996-9ffd-907a4b7722ca",
   "metadata": {},
   "source": [
    "![Innan vs efter bollbyte](jämförelse.png)\n"
   ]
  },
  {
   "cell_type": "markdown",
   "id": "490bd57d-5193-44cc-b41e-ed13827a6d1e",
   "metadata": {},
   "source": [
    "Resultaten indikerar att vissa lag, som Spårvägens BTK, anpassade sig väl till regeländringen med införandet av plastbollen, medan andra lag, som Halmstad BTK, uppvisade en sämre prestation efter förändringen. Noterbart är också att lag som Frej Växjö inte deltog i ligan efter 2014, medan Ängby SK endast spelade efter detta år. När man granskar vinstkvoten för alla lag tillsammans framträder en skillnad med mer hemmaplansvinster efter bollbytet, den är dock inte tillräckligt för att vara statistisk signifikant. \n",
    "\n",
    "**Jämförelse mellan olika sponsorer**\n",
    "\n",
    "För att undersöka om sponsorskap hade en inverkan på lagens prestationer jämfördes vinstkvoter för lag med olika sponsorer. Analysen fokuserade på de sponsorer vars lag deltog både före och efter bollbytet. Genom att visualisera vinstkvoter för respektive sponsor före och efter regeländringen kunde mönster och potentiella skillnader identifieras. Genom att inkludera sponsorer som en variabel i analysen blev det möjligt att upptäcka samband mellan sponsorskap och framgång.\n"
   ]
  },
  {
   "cell_type": "markdown",
   "id": "0ee752b7-ebec-4eb8-9a21-909392d4b31d",
   "metadata": {},
   "source": [
    "![Innan](sponsorinnan.png) ![Efter](sponsorefter.png)"
   ]
  },
  {
   "cell_type": "markdown",
   "id": "fa0c81e7-f0f2-4e61-a71f-06914d00f131",
   "metadata": {},
   "source": [
    "Resultaten indikerar att lag sponsrade av Joola och Donic har uppvisat en förbättring i sina prestationer efter bollbytet 2014, medan lag med Stiga som sponsor har visat en relativt stabil prestation under samma period. Dessa mönster kan tyda på att olika sponsorer har påverkats olika av de förändrade spelvillkoren efter regeländringen.\n",
    "\n",
    "**Effekten av publikens närvaro**\n",
    "\n",
    "För att undersöka hur publiknärvaro påverkar lagens prestation jämfördes säsongen 2020/2021, då matcher spelades utan publik på grund av pandemin, med övriga säsonger där publik var tillåten. Denna jämförelse syftar till att identifiera om och hur publikens stöd påverkar lagens vinstkvoter. Ett t-test mellan säsongen 2020/2021 och resterande säsonger gjordes också. "
   ]
  },
  {
   "cell_type": "markdown",
   "id": "e1d3aac1-9358-4b2d-933a-92b3b7fa458b",
   "metadata": {},
   "source": [
    "![Säsong 2020](Corona.png)"
   ]
  },
  {
   "cell_type": "markdown",
   "id": "ae8a243d-4466-4792-bd00-6dda7bf0786d",
   "metadata": {},
   "source": [
    "Resultaten indikerar att lagens vinstprocent hemma var högre under säsonger med publik jämfört med säsongen utan publik. Detta antyder att publiknärvaro kan ge ett psykologiskt eller taktiskt stöd som gynnar hemmalagen. Resultatet är statistiskt signifikant med ett p-värde lika med $0.004729728105765621$\n",
    "\n",
    "\n",
    "**Skillnaden i vinstprocent hemma vs borta, damer** \n",
    "\n",
    "För att undersöka eventuella mönster i damernas prestationer i Pingisligan analyserades data från säsongerna 2017/2018 till 2023/2024. Fokus låg på att jämföra vinstprocent mellan hemma- och bortaplan, samt att identifiera skillnader i lagens prestationer över tid. Data för hemmavinstprocent, bortavinstprocent och vinstkvoter sammanställdes och visualiserades."
   ]
  },
  {
   "cell_type": "markdown",
   "id": "4aff8d74-7449-43d2-916c-2c6fed19abe9",
   "metadata": {},
   "source": [
    "![damer](vinstdamer.png) "
   ]
  },
  {
   "cell_type": "markdown",
   "id": "05b566bd-2df0-4124-8236-ddea9638d4ca",
   "metadata": {},
   "source": [
    "Resultaten visar att det inte finns någon signifikant skillnad mellan damernas hemmavinstprocent och bortavinstprocent, med ett p-värde lika med $0.6611$. Detta tyder på att hemmaplan inte verkar ge någon tydlig fördel för damernas lag.\n",
    "\n",
    "**Jämförelse mellan sponsorer damer**\n",
    "\n",
    "För att analysera om sponsorskap även påverkade damlagens prestationer undersöktes vinstprocenten för lag med olika sponsorer. Fokus låg på att identifiera mönster och potentiella skillnader mellan sponsorer genom att visualisera vinstprocenten. "
   ]
  },
  {
   "cell_type": "markdown",
   "id": "21733319-11b6-412c-9f75-f97e9bbb0cbe",
   "metadata": {},
   "source": [
    "![damer sponsor](sponsordam.png)\n"
   ]
  },
  {
   "cell_type": "markdown",
   "id": "b0f6c3aa-7e63-4e89-807a-f512e00c81b2",
   "metadata": {},
   "source": [
    "\n",
    "Resultaten visar att lag med andra sponsorer än Stiga generellt presterade bättre i analysen. Detta tyder på att sponsorskap kan ha en inverkan på lagens framgång, där vissa sponsorer verkar bidra mer gynnsamt till prestationerna än andra."
   ]
  },
  {
   "cell_type": "markdown",
   "id": "c27080af-61c1-4f77-bae5-168564432411",
   "metadata": {},
   "source": [
    "# Diskussion\n",
    "\n",
    "Resultaten visar att publikens närvaro är en avgörande faktor för att stärka hemmaplansfördelen för herrarnas matcher. Den statistiskt signifikanta skillnaden i vinstprocent mellan säsongen utan publik och de säsonger med publik indikerar att publikens stöd har en betydande inverkan på hemmalagens prestationer. Publikens närvaro kan inte bara ge hemmalaget ett psykologiskt övertag genom motivation och stöd utan även fungera som en taktisk komponent som påverkar spelets dynamik. Samtidigt kan publikens närvaro skapa en psykologisk press och distraktion för bortalagen, vilket ytterligare förstärker hemmaplansfördelen.\n",
    "\n",
    "Den uteblivna signifikansen i damernas hemmaplansfördel, i jämförelse med herrarnas, understryker publikens roll som en central variabel. Damernas matcher tenderar att spelas inför tomma eller nästintill tomma läktare, vilket gör att den psykologiska och taktiska fördelen som publikstöd kan ge inte är lika framträdande. Detta resultat belyser en strukturell ojämlikhet inom idrotten där förutsättningarna för herrar och damer skiljer sig åt, inte bara på planen utan även i den omgivande miljön. Skillnaden i publiknärvaro mellan herr- och dammatcher väcker frågan om hur jämställdheten inom sporten kan förbättras för att skapa mer rättvisa förutsättningar för båda könen.\n",
    "\n",
    "Bollbytet 2014 medförde en ökning i vinstkvot för alla lag sammantaget, men skillnaden i hemmaplansfördel före och efter bytet var inte tillräckligt stor för att vara statistiskt signifikant. Däremot finns en tydlig variation i hur lagen hanterade övergången. Vissa lag lyckades anpassa sig väl och ökade sin vinstprocent hemma markant, medan andra lag upplevde en betydande nedgång i prestation. Detta tyder på att bollbytet skapade olika förutsättningar för lagen, där faktorer som träningsmiljö, taktik och resurser kan ha påverkat hur väl lagen lyckades anpassa sig.\n",
    "\n",
    "En intressant upptäckt var sponsorns roll i hemmaplansfördelen, särskilt efter bollbytet. Majoriteten av lagen har Stiga som sponsor och spelar därmed på Stiga-bord både under träning och på hemmamatcher. Däremot visade sig lag med andra sponsorer prestera bättre på hemmaplan, vilket kan kopplas till att de använder bord på sina hemmamatcher som skiljer sig från Stiga-borden som används på bortaplan. Detta ger dessa lag en unik fördel, eftersom de tränar på och är mer vana vid bord med egenskaper som skiljer sig från motståndarnas. Eftersom alla lag spelar med Stiga-bollen kan dess beteende på olika bord skapa små men betydelsefulla skillnader i spelet. Denna effekt verkar ha blivit mer påtaglig efter bollbytet, då den nya bollen möjligen är mer känslig för variationer i material och design hos borden. Resultaten stärks ytterligare av analysen av damlagens vinstkvot per sponsor, där liknande mönster observerades. Detta lyfter fram betydelsen av utrustningens kompatibilitet i elitidrott och hur små tekniska faktorer kan påverka resultat.\n",
    "\n",
    "En brist i min analys var den begränsade tillgången till data, då jag endast hade tillgång till information från och med säsongen 2010. Dessutom består Pingisligan av endast åtta lag, och det är nästan alltid samma lag som deltar varje säsong, vilket begränsar variationen och möjligheten att dra generaliserbara slutsatser. En annan brist var att jag saknade information om antalet åskådare vid matcherna, vilket hade kunnat ge en djupare förståelse för publikens påverkan på hemmaplansfördelen.\n",
    "\n",
    "En ytterligare svaghet i min analys är att jag inte undersökte på spelarnivå, vilket kunde ha gett insikter om vilka spelare som presterar bäst i olika miljöer och under olika förutsättningar. Jag tog heller inte hänsyn till faktorer som skillnader i spelschema, resesträckor eller eventuella förändringar i lagens trupper mellan säsonger. Slutligen hade det varit värdefullt att inkludera data från fler ligor eller nivåer för att kunna jämföra och stärka analysens validitet. \n"
   ]
  },
  {
   "cell_type": "markdown",
   "id": "08ce4623-beec-48ed-aa85-19a6dff5d01f",
   "metadata": {},
   "source": [
    "# Slutsats \n",
    "\n",
    "Hemmaplansfördel är ett statistiskt signifikant fenomen i Pingisligan herrar. Den största förändringen i fördelen, före och efter bytet till den nya plastbollen, berodde på vilken sponsor klubben hade. Majoriteten av lagen har Stiga som sponsor, men de lag som använde en annan sponsor fick en betydligt större fördel efter bollbytet jämfört med tidigare. Detta tyder på att den nya plastbollen är mer känslig för olika tillverkare på bord än den äldre celluloidbollen. Publikstödet spelar också en avgörande roll för hemmaplansfördelen. Under säsongen utan publik visade sig hemmaplansfördelen vara obetydlig, och skillnaden mellan denna säsong och övriga säsonger var statistiskt signifikant. Teorin stärks ytterligare av Pingisligan damer, där publikstödet generellt är mycket begränsat. Följaktligen finns det ingen signifikant hemmaplansfördel i damernas matcher.\n",
    "\n",
    "\n",
    "Slutligen väcker resultaten flera frågor för framtida forskning. Det vore intressant att utforska hur publikstöd och utrustning påverkar idrottsprestationer i internationella ligor, såsom tyska Bundesliga, där fler sponsorer och varierande bollar används samt ett ännu större publikintresse. Detta skulle ge en bredare förståelse för hur externa faktorer samverkar för att forma konkurrensfördelar. Vidare skulle en djupare analys av jämställdhet inom sporten kunna belysa varför dammatcher lockar färre åskådare och vilka åtgärder som kan vidtas för att öka intresset och skapa mer balanserade förutsättningar mellan herr- och dammatcher. Resultaten från denna studie utgör en grund för att bättre förstå de dynamiska faktorer som påverkar idrottsprestationer och belyser områden som kräver ytterligare uppmärksamhet och analys"
   ]
  },
  {
   "cell_type": "markdown",
   "id": "61416717-7397-4aaa-92e8-1e36e33bfd2c",
   "metadata": {},
   "source": [
    "# Kod och Reproducerbarhet\n",
    "All kod som använts för analysen och visualiseringen återfinns i den publicerade filen kod.ipynb som finns i mappen projekt. Den innehåller fullständiga steg för databehandling, beräkningar och statistiska tester för att säkerställa reproducerbarhet."
   ]
  },
  {
   "cell_type": "markdown",
   "id": "39dcff15-8466-4cc6-806a-b0609dec0f7f",
   "metadata": {},
   "source": [
    "# Referenser\n",
    "- Svenska bordtennisförbundet, https://sbtf.se"
   ]
  }
 ],
 "metadata": {
  "kernelspec": {
   "display_name": "Python 3 (ipykernel)",
   "language": "python",
   "name": "python3"
  },
  "language_info": {
   "codemirror_mode": {
    "name": "ipython",
    "version": 3
   },
   "file_extension": ".py",
   "mimetype": "text/x-python",
   "name": "python",
   "nbconvert_exporter": "python",
   "pygments_lexer": "ipython3",
   "version": "3.9.6"
  }
 },
 "nbformat": 4,
 "nbformat_minor": 5
}
