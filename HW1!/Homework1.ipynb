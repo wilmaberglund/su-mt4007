{
 "cells": [
  {
   "cell_type": "markdown",
   "id": "c91883cf-3ae9-468f-8262-b325311ff0db",
   "metadata": {},
   "source": [
    "# Homework 1"
   ]
  },
  {
   "cell_type": "markdown",
   "id": "b666c138-5a49-4262-9b3f-93fa2df4f3b7",
   "metadata": {
    "editable": true,
    "slideshow": {
     "slide_type": ""
    },
    "tags": []
   },
   "source": [
    "Hi! I'm Wilma, 24 years old from Stockholm. I'm currently in my third year of the Bachelor's program in Mathematics and Economics. In my free time I like running and traveling to new places.\n"
   ]
  },
  {
   "cell_type": "markdown",
   "id": "4a3c6c58-bdb7-4deb-b075-3f92b8abfc43",
   "metadata": {
    "editable": true,
    "slideshow": {
     "slide_type": ""
    },
    "tags": []
   },
   "source": [
    "I have little experience with data science, as we've worked with R in previous courses and during the first year we had a programming course where we used python.:)"
   ]
  },
  {
   "cell_type": "code",
   "execution_count": null,
   "id": "e0cbb0eb-fb73-4886-8b82-bb0717cea107",
   "metadata": {},
   "outputs": [],
   "source": []
  }
 ],
 "metadata": {
  "kernelspec": {
   "display_name": "Python 3 (ipykernel)",
   "language": "python",
   "name": "python3"
  },
  "language_info": {
   "codemirror_mode": {
    "name": "ipython",
    "version": 3
   },
   "file_extension": ".py",
   "mimetype": "text/x-python",
   "name": "python",
   "nbconvert_exporter": "python",
   "pygments_lexer": "ipython3",
   "version": "3.9.6"
  }
 },
 "nbformat": 4,
 "nbformat_minor": 5
}
