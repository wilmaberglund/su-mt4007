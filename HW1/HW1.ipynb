{
 "cells": [
  {
   "cell_type": "markdown",
   "id": "c91883cf-3ae9-468f-8262-b325311ff0db",
   "metadata": {},
   "source": [
    "# Homework 1"
   ]
  },
  {
   "cell_type": "code",
   "execution_count": 4,
   "id": "652f9a68-c444-48ad-b1e8-111dc02add85",
   "metadata": {},
   "outputs": [
    {
     "name": "stdout",
     "output_type": "stream",
     "text": [
      "Hi! I'm Wilma, 24 years old from Stockholm. I'm currently in my third year of the Bachelor's program in Mathematics and Economics. In my free time I like running and traveling to new places.\n"
     ]
    }
   ],
   "source": [
    "text= \"Hi! I'm Wilma, 24 years old from Stockholm. I'm currently in my third year of the Bachelor's program in Mathematics and Economics. In my free time I like running and traveling to new places.\"\n",
    "print(text) "
   ]
  },
  {
   "cell_type": "code",
   "execution_count": 1,
   "id": "ef095101-0f74-4248-b898-7517a65eebc3",
   "metadata": {},
   "outputs": [
    {
     "name": "stdout",
     "output_type": "stream",
     "text": [
      "I have little experience with data science, as we've worked with R in previous courses and during the first year we had a programming course where we used python.:)\n"
     ]
    }
   ],
   "source": [
    "text2=\"I have little experience with data science, as we've worked with R in previous courses and during the first year we had a programming course where we used python.:)\"\n",
    "print(text2)"
   ]
  },
  {
   "cell_type": "code",
   "execution_count": null,
   "id": "e0cbb0eb-fb73-4886-8b82-bb0717cea107",
   "metadata": {},
   "outputs": [],
   "source": []
  }
 ],
 "metadata": {
  "kernelspec": {
   "display_name": "Python 3 (ipykernel)",
   "language": "python",
   "name": "python3"
  },
  "language_info": {
   "codemirror_mode": {
    "name": "ipython",
    "version": 3
   },
   "file_extension": ".py",
   "mimetype": "text/x-python",
   "name": "python",
   "nbconvert_exporter": "python",
   "pygments_lexer": "ipython3",
   "version": "3.9.6"
  }
 },
 "nbformat": 4,
 "nbformat_minor": 5
}
